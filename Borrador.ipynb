{
 "cells": [
  {
   "cell_type": "markdown",
   "metadata": {},
   "source": [
    "Importing the necesary liberaries"
   ]
  },
  {
   "cell_type": "code",
   "execution_count": 1,
   "metadata": {},
   "outputs": [],
   "source": [
    "import numpy as np \n",
    "import pandas as pd \n",
    "from datetime import date, timedelta, datetime\n",
    "from matplotlib import pyplot as plt\n",
    "from wordcloud import WordCloud, STOPWORDS"
   ]
  },
  {
   "cell_type": "markdown",
   "metadata": {},
   "source": [
    "Loading the data as a DataFrame "
   ]
  },
  {
   "cell_type": "code",
   "execution_count": 4,
   "metadata": {},
   "outputs": [],
   "source": [
    "df = pd.read_csv('AccidentesAviones.csv', index_col=0)"
   ]
  },
  {
   "cell_type": "code",
   "execution_count": 5,
   "metadata": {},
   "outputs": [
    {
     "data": {
      "text/html": [
       "<div>\n",
       "<style scoped>\n",
       "    .dataframe tbody tr th:only-of-type {\n",
       "        vertical-align: middle;\n",
       "    }\n",
       "\n",
       "    .dataframe tbody tr th {\n",
       "        vertical-align: top;\n",
       "    }\n",
       "\n",
       "    .dataframe thead th {\n",
       "        text-align: right;\n",
       "    }\n",
       "</style>\n",
       "<table border=\"1\" class=\"dataframe\">\n",
       "  <thead>\n",
       "    <tr style=\"text-align: right;\">\n",
       "      <th></th>\n",
       "      <th>fecha</th>\n",
       "      <th>HORA declarada</th>\n",
       "      <th>Ruta</th>\n",
       "      <th>OperadOR</th>\n",
       "      <th>flight_no</th>\n",
       "      <th>route</th>\n",
       "      <th>ac_type</th>\n",
       "      <th>registration</th>\n",
       "      <th>cn_ln</th>\n",
       "      <th>all_aboard</th>\n",
       "      <th>PASAJEROS A BORDO</th>\n",
       "      <th>crew_aboard</th>\n",
       "      <th>cantidad de fallecidos</th>\n",
       "      <th>passenger_fatalities</th>\n",
       "      <th>crew_fatalities</th>\n",
       "      <th>ground</th>\n",
       "      <th>summary</th>\n",
       "    </tr>\n",
       "  </thead>\n",
       "  <tbody>\n",
       "    <tr>\n",
       "      <th>0</th>\n",
       "      <td>September 17, 1908</td>\n",
       "      <td>1718</td>\n",
       "      <td>Fort Myer, Virginia</td>\n",
       "      <td>Military - U.S. Army</td>\n",
       "      <td>?</td>\n",
       "      <td>Demonstration</td>\n",
       "      <td>Wright Flyer III</td>\n",
       "      <td>?</td>\n",
       "      <td>1</td>\n",
       "      <td>2</td>\n",
       "      <td>1</td>\n",
       "      <td>1</td>\n",
       "      <td>1</td>\n",
       "      <td>1</td>\n",
       "      <td>0</td>\n",
       "      <td>0</td>\n",
       "      <td>During a demonstration flight, a U.S. Army fly...</td>\n",
       "    </tr>\n",
       "    <tr>\n",
       "      <th>1</th>\n",
       "      <td>September 07, 1909</td>\n",
       "      <td>?</td>\n",
       "      <td>Juvisy-sur-Orge, France</td>\n",
       "      <td>?</td>\n",
       "      <td>?</td>\n",
       "      <td>Air show</td>\n",
       "      <td>Wright Byplane</td>\n",
       "      <td>SC1</td>\n",
       "      <td>?</td>\n",
       "      <td>1</td>\n",
       "      <td>0</td>\n",
       "      <td>1</td>\n",
       "      <td>1</td>\n",
       "      <td>0</td>\n",
       "      <td>0</td>\n",
       "      <td>0</td>\n",
       "      <td>Eugene Lefebvre was the first pilot to ever be...</td>\n",
       "    </tr>\n",
       "    <tr>\n",
       "      <th>2</th>\n",
       "      <td>July 12, 1912</td>\n",
       "      <td>0630</td>\n",
       "      <td>Atlantic City, New Jersey</td>\n",
       "      <td>Military - U.S. Navy</td>\n",
       "      <td>?</td>\n",
       "      <td>Test flight</td>\n",
       "      <td>Dirigible</td>\n",
       "      <td>?</td>\n",
       "      <td>?</td>\n",
       "      <td>5</td>\n",
       "      <td>0</td>\n",
       "      <td>5</td>\n",
       "      <td>5</td>\n",
       "      <td>0</td>\n",
       "      <td>5</td>\n",
       "      <td>0</td>\n",
       "      <td>First U.S. dirigible Akron exploded just offsh...</td>\n",
       "    </tr>\n",
       "    <tr>\n",
       "      <th>3</th>\n",
       "      <td>August 06, 1913</td>\n",
       "      <td>?</td>\n",
       "      <td>Victoria, British Columbia, Canada</td>\n",
       "      <td>Private</td>\n",
       "      <td>?</td>\n",
       "      <td>?</td>\n",
       "      <td>Curtiss seaplane</td>\n",
       "      <td>?</td>\n",
       "      <td>?</td>\n",
       "      <td>1</td>\n",
       "      <td>0</td>\n",
       "      <td>1</td>\n",
       "      <td>1</td>\n",
       "      <td>0</td>\n",
       "      <td>1</td>\n",
       "      <td>0</td>\n",
       "      <td>The first fatal airplane accident in Canada oc...</td>\n",
       "    </tr>\n",
       "    <tr>\n",
       "      <th>4</th>\n",
       "      <td>September 09, 1913</td>\n",
       "      <td>1830</td>\n",
       "      <td>Over the North Sea</td>\n",
       "      <td>Military - German Navy</td>\n",
       "      <td>?</td>\n",
       "      <td>?</td>\n",
       "      <td>Zeppelin L-1 (airship)</td>\n",
       "      <td>?</td>\n",
       "      <td>?</td>\n",
       "      <td>20</td>\n",
       "      <td>?</td>\n",
       "      <td>?</td>\n",
       "      <td>14</td>\n",
       "      <td>?</td>\n",
       "      <td>?</td>\n",
       "      <td>0</td>\n",
       "      <td>The airship flew into a thunderstorm and encou...</td>\n",
       "    </tr>\n",
       "  </tbody>\n",
       "</table>\n",
       "</div>"
      ],
      "text/plain": [
       "                fecha HORA declarada                                Ruta  \\\n",
       "0  September 17, 1908           1718                 Fort Myer, Virginia   \n",
       "1  September 07, 1909              ?             Juvisy-sur-Orge, France   \n",
       "2       July 12, 1912           0630           Atlantic City, New Jersey   \n",
       "3     August 06, 1913              ?  Victoria, British Columbia, Canada   \n",
       "4  September 09, 1913           1830                  Over the North Sea   \n",
       "\n",
       "                 OperadOR flight_no          route                 ac_type  \\\n",
       "0    Military - U.S. Army         ?  Demonstration        Wright Flyer III   \n",
       "1                       ?         ?       Air show          Wright Byplane   \n",
       "2    Military - U.S. Navy         ?    Test flight               Dirigible   \n",
       "3                 Private         ?              ?        Curtiss seaplane   \n",
       "4  Military - German Navy         ?              ?  Zeppelin L-1 (airship)   \n",
       "\n",
       "  registration cn_ln all_aboard PASAJEROS A BORDO crew_aboard  \\\n",
       "0            ?     1          2                 1           1   \n",
       "1          SC1     ?          1                 0           1   \n",
       "2            ?     ?          5                 0           5   \n",
       "3            ?     ?          1                 0           1   \n",
       "4            ?     ?         20                 ?           ?   \n",
       "\n",
       "  cantidad de fallecidos passenger_fatalities crew_fatalities ground  \\\n",
       "0                      1                    1               0      0   \n",
       "1                      1                    0               0      0   \n",
       "2                      5                    0               5      0   \n",
       "3                      1                    0               1      0   \n",
       "4                     14                    ?               ?      0   \n",
       "\n",
       "                                             summary  \n",
       "0  During a demonstration flight, a U.S. Army fly...  \n",
       "1  Eugene Lefebvre was the first pilot to ever be...  \n",
       "2  First U.S. dirigible Akron exploded just offsh...  \n",
       "3  The first fatal airplane accident in Canada oc...  \n",
       "4  The airship flew into a thunderstorm and encou...  "
      ]
     },
     "execution_count": 5,
     "metadata": {},
     "output_type": "execute_result"
    }
   ],
   "source": [
    "df.head()"
   ]
  },
  {
   "cell_type": "code",
   "execution_count": 7,
   "metadata": {},
   "outputs": [
    {
     "data": {
      "text/plain": [
       "Index(['fecha', 'HORA declarada', 'Ruta', 'OperadOR', 'flight_no', 'route',\n",
       "       'ac_type', 'registration', 'cn_ln', 'all_aboard', 'PASAJEROS A BORDO',\n",
       "       'crew_aboard', 'cantidad de fallecidos', 'passenger_fatalities',\n",
       "       'crew_fatalities', 'ground', 'summary'],\n",
       "      dtype='object')"
      ]
     },
     "execution_count": 7,
     "metadata": {},
     "output_type": "execute_result"
    }
   ],
   "source": [
    "df.columns"
   ]
  },
  {
   "cell_type": "markdown",
   "metadata": {},
   "source": [
    "Data Diccionary:\n",
    "\n",
    "- fecha : date when the crash took place\n",
    "- HORA declarada : Time of the crash\n",
    "- Ruta :\n",
    "- OperadOR: plane's airline\n",
    "- flight_no : Flight number\n",
    "- route\n",
    "- ac_type: specific type of the plane/vehicule\n",
    "- registration\n",
    "- cn_ln\n",
    "- all_aboard cuantuty of the people aboard\n",
    "- PASAJEROS A BORDO : pasengers abord\n",
    "- crew_aboard : only members of the crew aboard\n",
    "- cantidad de fallecidos: number of fatalities\n",
    "- passenger_fatalities : number of pasengers fatalities\n",
    "- crew_fatalities : number of only crew fatalities \n",
    "- ground : Total number of people killed by the accident on the ground (people who were not on board)\n",
    "- summary : Brief description of the case"
   ]
  },
  {
   "cell_type": "code",
   "execution_count": 15,
   "metadata": {},
   "outputs": [
    {
     "data": {
      "text/plain": [
       "fecha               HORA declarada  Ruta                                 OperadOR                                           flight_no  route                       ac_type                            registration     cn_ln      all_aboard  PASAJEROS A BORDO  crew_aboard  cantidad de fallecidos  passenger_fatalities  crew_fatalities  ground  summary                                                                                                                                                                                                                                                                                                                                                                                                                                                                                                                                                                                                                                               \n",
       "April 01, 1935      0045            Beauvais, France                     Air France                                         ?          ?                           Farman F-300                       F-ALHQ           7243-2     3           0                  3            1                       0                     1                0       Shortly after departure, the captain decided to return to Paris because of low visibility. The aircraft hit a tree and crashed in an open field. The chief pilot of Air France, Robert Bajac, 36, was killed. Blame was placed on the aircraft which was found to be unstable in flight.                                                                                                                                                                                                                                                                                                                                                                  1\n",
       "May 01, 1967        1620            Flushing, New York                   Greylock Airways / Private                         ?          ?                           de Havilland DH-104 / Piper PA-28  N80013 / N5836W  ?          14          11                 3            3                       1                     2                0       The de Havilland and Piper collided while attempting to land at La Guardia Airport. The Piper did not reply to instructions from the tower and landed without clearance. Congested traffic pattern. Inadequate spacing of traffic were contributing factors. All three killed on the Piper.                                                                                                                                                                                                                                                                                                                                                               1\n",
       "May 02, 1959        2212            Mallorca, Spain                      Austria-Flugdienst                                 ?          Palma de Mallorca - Wien    Douglas DC-3                       OE-FDA           12210      5           2                  3            5                       2                     3                0       Two minutes after reporting at 3,000feet the aircraft struck Alfabia peak at 3,300 feet. Insufficient altitude while flying at normal climb power.                                                                                                                                                                                                                                                                                                                                                                                                                                                                                                        1\n",
       "May 02, 1953        1635            Near Jalalogori, West Bengal, India  British Overseas Airways                           783/057    Calcutta - Delhi            de Havilland DH106 Comet 1         G-ALYV           06008      43          37                 6            43                      37                    6                0       The aircraft crashed 6 minutes after taking off from Dum Dum Airport. The accident occurred during a violent thunderstorm. Wreckage indicated that the aircraft broke up in the air. Failure of both elevator spars caused by a heavy down-load that may have been associated with a pull-up maneuver. Severe gusts encountered in the thundersquall and overcontrolling or loss of control by the pilots when flying through the thunderstorm. The aircraft was nicknamed \"York Victor.\"                                                                                                                                                                 1\n",
       "May 02, 1950        ?               Chimborazo, Ecuador                  AVIANCA                                            ?          Bogota - Quito - Guayaquil  Douglas C-47DL                     HK-120           4314       15          12                 3            15                      12                    3                0       Flew into a mountain.                                                                                                                                                                                                                                                                                                                                                                                                                                                                                                                                                                                                                                     1\n",
       "                                                                                                                                                                                                                                                                                                                                                                                                                                                                                                                                                                                                                                                                                                                                                                                                                                                                                                                                                                                                              ..\n",
       "January 02, 1961    ?               Ruzyne, Czechoslovakia               Ceskoslovenske Aerolinie                           ?          Training                    Avia 14                            OK-MCZ           105807110  10          5                  5            10                      5                     5                0       Unable to gain altitude, the aircraft crashed into power cables during takeoff.                                                                                                                                                                                                                                                                                                                                                                                                                                                                                                                                                                           1\n",
       "January 02, 1954    ?               Herat, Afghanistan                   Ariana Afghan Airlines                             ?          ?                           Douglas DC-3                       ?                ?          21          ?                  ?            21                      ?                     ?                0       Two Russian trade delegates were killed when the plane crashed near Herat in a showstorm.                                                                                                                                                                                                                                                                                                                                                                                                                                                                                                                                                                 1\n",
       "January 02, 1952    ?               Andapa, Madagascar                   Air France                                         ?          ?                           Junkers JU-52/3m                   F-BAMQ           106        11          8                  3            6                       ?                     ?                0       ?                                                                                                                                                                                                                                                                                                                                                                                                                                                                                                                                                                                                                                                         1\n",
       "January 02, 1949    22:05           Seattle, Washington                  Seattle Air Charter                                ?          Seattle - New Haven         Douglas DC-3 (C-47A-DL)            NC79025          10181      30          27                 3            14                      11                    3                0       The aircraft took off in fog with a group of Yale University students returning to school following their Christmas vacation.  About midway down the runway the plane swerved to the left and became airborne.  The left wing dropped the wing tip dragged on the runway.  After about 750 feet, the tail wheel made contact with the runway.  The engines were cut and the plane skidded for 700 feet until it hit a hanger and burst into flames.  The accident was caused by the crew's attempt to take off in an airplane which had formations of ice and frost on the surfaces of the wings.  In addition, the plane was overloaded by 1,500 lbs.    1\n",
       "September 30, 2017  0730            Near Kinshasa, Congo                 Air Force of the Democratic Republic of the Congo  ?          Kinshasa, - Bunia           Antonov An-12B                     EX-001           5343606    12          6                  6            12                      6                     6                0       The aircraft departed Kinshasa carrying ammunition and 2 vehicles. A few minutes after takeoff the crew reported a technical problem and received permission to make an emergency landing. Shortly after the plane lost control and crashed in flames about 20 km NE of Kinshasa.                                                                                                                                                                                                                                                                                                                                                                         1\n",
       "Name: count, Length: 5007, dtype: int64"
      ]
     },
     "execution_count": 15,
     "metadata": {},
     "output_type": "execute_result"
    }
   ],
   "source": [
    "df.value_counts()#('?').sum()"
   ]
  }
 ],
 "metadata": {
  "kernelspec": {
   "display_name": "Python 3",
   "language": "python",
   "name": "python3"
  },
  "language_info": {
   "codemirror_mode": {
    "name": "ipython",
    "version": 3
   },
   "file_extension": ".py",
   "mimetype": "text/x-python",
   "name": "python",
   "nbconvert_exporter": "python",
   "pygments_lexer": "ipython3",
   "version": "3.10.11"
  }
 },
 "nbformat": 4,
 "nbformat_minor": 2
}
